{
 "cells": [
  {
   "cell_type": "markdown",
   "id": "ad298a82",
   "metadata": {},
   "source": [
    "1. Add the current date to the text file today.txt as a string.\n",
    "\n",
    "import datetime\n",
    "\n",
    "with open('today.txt','w') as file:\n",
    "    file.write('Date & Time %s' %datetime.datetime.now())\n"
   ]
  },
  {
   "cell_type": "raw",
   "id": "3bdef594",
   "metadata": {},
   "source": [
    "2. Read the text file today.txt into the string today_string\n",
    "\n",
    "today_string = open('today.txt','r')"
   ]
  },
  {
   "cell_type": "raw",
   "id": "c522d13d",
   "metadata": {},
   "source": [
    "3. Parse the date from today_string\n",
    "\n",
    "for i in today_string:\n",
    "    print(i)"
   ]
  },
  {
   "cell_type": "raw",
   "id": "26e8efe7",
   "metadata": {},
   "source": [
    "#4. list the files in your current directory\n",
    "\n",
    "import os\n",
    "\n",
    "lis = os.listdir()\n",
    "print(lis)"
   ]
  },
  {
   "cell_type": "raw",
   "id": "d178f93b",
   "metadata": {},
   "source": [
    "#5. Create a list of all of the files in your parent directory (minimum five files should be available).\n",
    "\n",
    "path = os.listdir('C:\\\\Users\\\\nazee\\\\Jupyter')\n",
    "print(path)"
   ]
  },
  {
   "cell_type": "raw",
   "id": "a717a16d",
   "metadata": {},
   "source": [
    "6. Use multiprocessing to create three separate processes. Make each one wait a random number of\n",
    "seconds between one and five, print the current time, and then exit.\n",
    "\n",
    "\n",
    "import multiprocessing\n",
    "import datetime\n",
    "import numpy as np\n",
    "def process1():\n",
    "    t1 = np.random.randint(1,5)\n",
    "    print(\"Waiting for \"+str(t1)+\" seconds\")\n",
    "    datetime.sleep(t1)\n",
    "    print(datetime.datetime.now())\n",
    "\n",
    "\n",
    "start = datetime.time()\n",
    "process1 = process1()\n",
    "process2 = process1()\n",
    "process3 = process1()\n",
    "\n",
    "print(datetime.datetime.now())\n",
    "if __name__==\"__main__\":\n",
    "    \n",
    "    \n",
    "    \n",
    "    p1 = multiprocessing.Process(target=process1)\n",
    "    p2 = multiprocessing.Process(target=process2)\n",
    "    p3 = multiprocessing.Process(target=process3)\n",
    "\n",
    "    p1.start()\n",
    "    p2.start()\n",
    "    p3.start()\n",
    "\n",
    "    p1.join()\n",
    "    p2.join()\n",
    "    p3.join()\n",
    "\n",
    "end = time.time()\n",
    "    \n",
    "\n",
    "print(\"It takes \" +str(end-start)+\" seconds\")"
   ]
  },
  {
   "cell_type": "raw",
   "id": "ebc9f833",
   "metadata": {},
   "source": [
    "#7. Create a date object of your date of birth\n",
    "import datetime\n",
    "\n",
    "dob= datetime.date(1997,11,25)"
   ]
  },
  {
   "cell_type": "raw",
   "id": "6442e0f3",
   "metadata": {},
   "source": [
    "#8. What day of week your bday was?\n",
    "\n",
    "day = dob.ctime().split()\n",
    "print('Day of week is %s'%day[0])"
   ]
  },
  {
   "cell_type": "raw",
   "id": "94077e09",
   "metadata": {},
   "source": [
    "#9. When will you be (or when were you) 10,000 days old?\n",
    "\n",
    "after_10000 = dob +datetime.timedelta(10000)\n",
    "print(after_10000)"
   ]
  }
 ],
 "metadata": {
  "kernelspec": {
   "display_name": "Python 3",
   "language": "python",
   "name": "python3"
  },
  "language_info": {
   "codemirror_mode": {
    "name": "ipython",
    "version": 3
   },
   "file_extension": ".py",
   "mimetype": "text/x-python",
   "name": "python",
   "nbconvert_exporter": "python",
   "pygments_lexer": "ipython3",
   "version": "3.8.8"
  }
 },
 "nbformat": 4,
 "nbformat_minor": 5
}
