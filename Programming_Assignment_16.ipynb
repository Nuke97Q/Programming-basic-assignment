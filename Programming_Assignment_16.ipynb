{
 "cells": [
  {
   "cell_type": "raw",
   "id": "847d3c31",
   "metadata": {},
   "source": [
    "Question1. Write a function that stutters a word as if someone is struggling to read it. The\n",
    "first two letters are repeated twice with an ellipsis ... and space after each, and then the\n",
    "word is pronounced with a question mark ?."
   ]
  },
  {
   "cell_type": "raw",
   "id": "0aa58494",
   "metadata": {},
   "source": [
    "line = input()\n",
    "def stut():\n",
    "    \n",
    "    for i in range(0,2):\n",
    "        print(l[i],end=\"\")\n",
    "    print('... ',end=\"\")\n",
    "    for i in range(0,2):\n",
    "        print(l[i],end=\"\")\n",
    "    print('... '+line+\"?\")\n",
    "stut()"
   ]
  },
  {
   "cell_type": "code",
   "execution_count": null,
   "id": "98b239f8",
   "metadata": {},
   "outputs": [],
   "source": []
  },
  {
   "cell_type": "raw",
   "id": "b57c29f7",
   "metadata": {},
   "source": [
    "Question 2.Create a function that takes an angle in radians and returns the corresponding\n",
    "angle in degrees rounded to one decimal place."
   ]
  },
  {
   "cell_type": "raw",
   "id": "60c829de",
   "metadata": {},
   "source": [
    "def rad_to_deg(angle):\n",
    "    deg = angle * (180/3.14)\n",
    "    print(round(deg,1))\n",
    "rad_to_deg(1)"
   ]
  },
  {
   "cell_type": "code",
   "execution_count": null,
   "id": "ff115253",
   "metadata": {},
   "outputs": [],
   "source": []
  },
  {
   "cell_type": "raw",
   "id": "6524d245",
   "metadata": {},
   "source": [
    "Question 3. In this challenge, establish if a given integer num is a Curzon number. If 1 plus\n",
    "2 elevated to num is exactly divisible by 1 plus 2 multiplied by num, then num is a Curzon\n",
    "number."
   ]
  },
  {
   "cell_type": "raw",
   "id": "24f41b53",
   "metadata": {},
   "source": [
    "def is_curzon(num):\n",
    "    sq = (2**num) + 1\n",
    "    mult = (2*num) + 1\n",
    "    \n",
    "    if sq%mult==0:\n",
    "         return True\n",
    "    else:\n",
    "         return False\n",
    "is_curzon(33)"
   ]
  },
  {
   "cell_type": "code",
   "execution_count": null,
   "id": "b881d006",
   "metadata": {},
   "outputs": [],
   "source": []
  },
  {
   "cell_type": "raw",
   "id": "f4db849b",
   "metadata": {},
   "source": [
    "Question 4.Given the side length x find the area of a hexagon."
   ]
  },
  {
   "cell_type": "raw",
   "id": "4e09733b",
   "metadata": {},
   "source": [
    "def area_of_hexagon(l):\n",
    "    area = (3*(3**0.5)*(l**2))*0.5\n",
    "    return round(area,1)\n",
    "area_of_hexagon(1)"
   ]
  },
  {
   "cell_type": "code",
   "execution_count": null,
   "id": "3473e2fe",
   "metadata": {},
   "outputs": [],
   "source": []
  },
  {
   "cell_type": "raw",
   "id": "c4150493",
   "metadata": {},
   "source": [
    "Question 5. Create a function that returns a base-2 (binary) representation of a base-10\n",
    "(decimal) string number. To convert is simple: ((2) means base-2 and (10) means base-10)\n",
    "010101001(2) = 1 + 8 + 32 + 128."
   ]
  },
  {
   "cell_type": "code",
   "execution_count": null,
   "id": "14ae20cc",
   "metadata": {},
   "outputs": [],
   "source": []
  }
 ],
 "metadata": {
  "kernelspec": {
   "display_name": "Python 3",
   "language": "python",
   "name": "python3"
  },
  "language_info": {
   "codemirror_mode": {
    "name": "ipython",
    "version": 3
   },
   "file_extension": ".py",
   "mimetype": "text/x-python",
   "name": "python",
   "nbconvert_exporter": "python",
   "pygments_lexer": "ipython3",
   "version": "3.8.8"
  }
 },
 "nbformat": 4,
 "nbformat_minor": 5
}
